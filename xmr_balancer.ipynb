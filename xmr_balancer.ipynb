{
 "cells": [
  {
   "cell_type": "code",
   "execution_count": 88,
   "id": "fc2e8964-92f5-46b1-930b-f08743a3d5be",
   "metadata": {},
   "outputs": [],
   "source": [
    "import pandas as pd\n",
    "import re\n",
    "import numpy as np\n",
    "import requests\n",
    "from datetime import datetime, timedelta\n",
    "from helpers.helpers import load_data\n",
    "from helpers.helpers import compute_delta_factors\n",
    "from helpers.helpers import convert_to_hs\n",
    "from helpers.helpers import clean_profit\n",
    "from helpers.helpers import asic_price\n",
    "import openmeteo_requests\n",
    "import requests_cache\n",
    "from retry_requests import retry\n",
    "import os\n",
    "from datetime import datetime, time"
   ]
  },
  {
   "cell_type": "code",
   "execution_count": 89,
   "id": "f93dab21-2a99-4abe-acae-cc84e9f14476",
   "metadata": {},
   "outputs": [
    {
     "data": {
      "text/plain": [
       "['XMR-USD']"
      ]
     },
     "execution_count": 89,
     "metadata": {},
     "output_type": "execute_result"
    }
   ],
   "source": [
    "tickers = ['XMR-USD']\n",
    "tickers"
   ]
  },
  {
   "cell_type": "code",
   "execution_count": 90,
   "id": "5a657f14-82f6-4c87-9222-5c123be26a1a",
   "metadata": {},
   "outputs": [
    {
     "name": "stderr",
     "output_type": "stream",
     "text": [
      "[*********************100%***********************]  1 of 1 completed\n"
     ]
    }
   ],
   "source": [
    "df = load_data(tickers)"
   ]
  },
  {
   "cell_type": "code",
   "execution_count": 91,
   "id": "f4e6a77e-35fd-4347-bcc3-05b481f03eb2",
   "metadata": {},
   "outputs": [],
   "source": [
    "priceDict = {}\n",
    "for ticker in [s.split(\"-\")[0] for s in tickers]:\n",
    "    priceDict[ticker] =  df.tail(7)[ticker].mean()"
   ]
  },
  {
   "cell_type": "code",
   "execution_count": 92,
   "id": "09b93ea0-c084-4381-a9a8-bfbc75299e2d",
   "metadata": {},
   "outputs": [
    {
     "data": {
      "text/plain": [
       "{'XMR': np.float64(274.167977469308)}"
      ]
     },
     "execution_count": 92,
     "metadata": {},
     "output_type": "execute_result"
    }
   ],
   "source": [
    "priceDict"
   ]
  },
  {
   "cell_type": "code",
   "execution_count": 93,
   "id": "b7475a34-eaf1-483d-b197-373362d9b459",
   "metadata": {},
   "outputs": [],
   "source": [
    "with open('data/coinmarketcap_api_key.txt', 'r') as file:\n",
    "    coinmarketcap_api_key = file.read()"
   ]
  },
  {
   "cell_type": "code",
   "execution_count": 94,
   "id": "ef5337d4-9a25-4806-9926-2884ad30b2bc",
   "metadata": {},
   "outputs": [
    {
     "name": "stdout",
     "output_type": "stream",
     "text": [
      "{'XMR': {'price': np.float64(274.167977469308), 'network_hashrate': 'N/A', 'reward_block': 'N/A', 'upward_factor': 'N/A', 'downward_factor': 'N/A'}}\n"
     ]
    }
   ],
   "source": [
    "coinmarketcap_url = \"https://pro-api.coinmarketcap.com/v1/cryptocurrency/quotes/latest\"\n",
    "params = {\"symbol\": \"XMR\"}\n",
    "headers = {\"X-CMC_PRO_API_KEY\": coinmarketcap_api_key, \"Accept\": \"application/json\"}\n",
    "\n",
    "response = requests.get(coinmarketcap_url, headers=headers, params=params)\n",
    "data = response.json()\n",
    "\n",
    "# Extract prices\n",
    "coin_dict = {\n",
    "    symbol: {\n",
    "        \"price\": priceDict[symbol],\n",
    "        \"network_hashrate\": data[\"data\"][symbol].get(\"network_hashrate\", \"N/A\"),\n",
    "        \"reward_block\": data[\"data\"][symbol].get(\"reward_block\",\"N/A\"),\n",
    "        \"upward_factor\": data[\"data\"][symbol].get(\"upward_factor\",\"N/A\"),\n",
    "        \"downward_factor\": data[\"data\"][symbol].get(\"downward_factor\",\"N/A\"),\n",
    "    }\n",
    "    for symbol in params[\"symbol\"].split(\",\")\n",
    "}\n",
    "\n",
    "print(coin_dict)"
   ]
  },
  {
   "cell_type": "code",
   "execution_count": 95,
   "id": "0c6b051b-d636-4d73-930e-2bb05815a722",
   "metadata": {},
   "outputs": [],
   "source": [
    "response = requests.get(\"https://api.octa.space/v1/network\")\n",
    "data = response.json()"
   ]
  },
  {
   "cell_type": "code",
   "execution_count": 96,
   "id": "7a77c233-12a6-4cd1-ac46-a85600b41287",
   "metadata": {},
   "outputs": [
    {
     "name": "stdout",
     "output_type": "stream",
     "text": [
      "{'XMR': {'price': np.float64(274.167977469308), 'network_hashrate': 4501831767.55, 'reward_block': 0.60235808, 'upward_factor': np.float64(1.0340412520192273), 'downward_factor': np.float64(0.967079406210581)}}\n"
     ]
    }
   ],
   "source": [
    "minerstat_url = \"https://api.minerstat.com/v2/coins\"\n",
    "\n",
    "response = requests.get(minerstat_url)\n",
    "data = response.json()\n",
    "\n",
    "# Extract network hashrate for specific coins\n",
    "coins_of_interest = [\"XMR\"]\n",
    "\n",
    "for coin_of_interest in coins_of_interest:\n",
    "    coin_data = next((coin for coin in data if coin.get(\"coin\") == coin_of_interest), None)\n",
    "    if coin_data:  # Ensure the coin was found before updating\n",
    "        coin_dict[coin_of_interest][\"network_hashrate\"] = coin_data[\"network_hashrate\"]\n",
    "        coin_dict[coin_of_interest][\"reward_block\"] = coin_data[\"reward_block\"]\n",
    "        coin_dict[coin_of_interest][\"upward_factor\"] = compute_delta_factors(df[coin_of_interest])[0]\n",
    "        coin_dict[coin_of_interest][\"downward_factor\"] = compute_delta_factors(df[coin_of_interest])[1]\n",
    "print(coin_dict)"
   ]
  },
  {
   "cell_type": "code",
   "execution_count": 97,
   "id": "3b7299d2-5900-4027-91c6-65809afffd41",
   "metadata": {},
   "outputs": [],
   "source": [
    "df = pd.read_csv(\"data/computers.csv\")"
   ]
  },
  {
   "cell_type": "code",
   "execution_count": 98,
   "id": "f2d7c063-cb2a-4534-8310-3675a3e51eed",
   "metadata": {},
   "outputs": [],
   "source": [
    "df['Hashrate_raw'] = df['Hashrate']\n",
    "df['Efficiency'] = df['Hashrate_raw'] / df['Power']"
   ]
  },
  {
   "cell_type": "code",
   "execution_count": 99,
   "id": "09ed79c5-92ad-4b47-b2d2-c67238638d6a",
   "metadata": {},
   "outputs": [],
   "source": [
    "algorithms = [\n",
    "    df['Algorithm'] == 'SHA-256',\n",
    "    df['Algorithm'] == 'Blake3',\n",
    "    df['Algorithm'] == 'Scrypt',\n",
    "    df['Algorithm'] == 'KHeavyHash',\n",
    "    df['Algorithm'] == 'Cuckatoo32'\n",
    "]"
   ]
  },
  {
   "cell_type": "code",
   "execution_count": 100,
   "id": "0d23e9e7-f6ca-4cbd-bfea-5c6958b448e8",
   "metadata": {},
   "outputs": [],
   "source": [
    "df['Network'] = df['Algorithm'].apply(lambda x: \n",
    "    [\"ALPH\"] if x == 'Blake3' else \n",
    "    ['DOGE', 'LTC'] if x == 'Scrypt' else\n",
    "    [\"KAS\"] if x == 'KHeavyHash' else \n",
    "    [\"BTC\"] if x == 'SHA-256' else\n",
    "    [\"OCTA\"] if x == 'EtHash' else\n",
    "    [\"MWC\"] if x == 'Cuckatoo32' else\n",
    "    [\"RXD\"] if x == 'SHA512256d' else\n",
    "    [\"XMR\"] if x == 'RandomX' else            \n",
    "    ['None']\n",
    ")"
   ]
  },
  {
   "cell_type": "markdown",
   "id": "567370a9-255e-40c7-8404-14d6fac9c5f2",
   "metadata": {
    "jp-MarkdownHeadingCollapsed": true
   },
   "source": [
    "open-meto template here\n",
    "https://open-meteo.com/en/docs?forecast_days=1&current=temperature_2m&temperature_unit=fahrenheit"
   ]
  },
  {
   "cell_type": "code",
   "execution_count": 101,
   "id": "fec24927-075a-417e-8649-6d386f833b98",
   "metadata": {},
   "outputs": [],
   "source": [
    "cache_session = requests_cache.CachedSession('.cache', expire_after = 3600)\n",
    "retry_session = retry(cache_session, retries = 5, backoff_factor = 0.2)\n",
    "openmeteo = openmeteo_requests.Client(session = retry_session)\n",
    "\n",
    "with open('data/latitude.txt', 'r') as file:\n",
    "    latitude = file.read()\n",
    "with open('data/longitude.txt', 'r') as file:\n",
    "    longitude = file.read()\n",
    "\n",
    "url = \"https://api.open-meteo.com/v1/forecast\"\n",
    "params = {\n",
    "\t\"latitude\": latitude,\n",
    "\t\"longitude\": longitude,\n",
    "\t\"current\": \"temperature_2m\",\n",
    "\t\"forecast_days\": 1,\n",
    "\t\"temperature_unit\": \"fahrenheit\"\n",
    "}\n",
    "responses = openmeteo.weather_api(url, params=params)\n",
    "response = responses[0]\n",
    "current = response.Current()\n",
    "current_temperature_2m = current.Variables(0).Value()"
   ]
  },
  {
   "cell_type": "code",
   "execution_count": 102,
   "id": "286710ba-d688-439f-8931-b6a0e23132e1",
   "metadata": {},
   "outputs": [],
   "source": [
    "with open('data/base_rate.txt', 'r') as file:\n",
    "    base_rate = file.read()\n",
    "with open('data/peak_rate.txt', 'r') as file:\n",
    "    peak_rate = file.read()\n",
    "with open('data/peak_start.txt', 'r') as file:\n",
    "    peak_start = file.read()\n",
    "with open('data/peak_end.txt', 'r') as file:\n",
    "    peak_end = file.read()\n",
    "with open('data/temp_cutoff.txt', 'r') as file:\n",
    "    temp_cutoff = file.read()\n",
    "    \n",
    "base_rate = float(base_rate)\n",
    "peak_rate = float(peak_rate)\n",
    "peak_start = int(peak_start)\n",
    "peak_end = int(peak_end)\n",
    "temp_cutoff = int(temp_cutoff)\n",
    "\n",
    "if (datetime.now().time() > time(peak_start, 0)) & (datetime.now().time() < time(peak_end, 0)):\n",
    "    if current_temperature_2m < temp_cutoff:\n",
    "        df['Expected_Price'] = df.apply(lambda row: asic_price(row['Hashrate_raw'], coin_dict, row['Power'], peak_rate * .7, 1, row['Network']), axis=1)\n",
    "    else:\n",
    "        df['Expected_Price'] = df.apply(lambda row: asic_price(row['Hashrate_raw'], coin_dict, row['Power'], peak_rate, 1, row['Network']), axis=1)\n",
    "else:\n",
    "    if current_temperature_2m < temp_cutoff:\n",
    "        df['Expected_Price'] = df.apply(lambda row: asic_price(row['Hashrate_raw'], coin_dict, row['Power'], base_rate * .7, 1, row['Network']), axis=1)\n",
    "    else:\n",
    "        df['Expected_Price'] = df.apply(lambda row: asic_price(row['Hashrate_raw'], coin_dict, row['Power'], base_rate, 1, row['Network']), axis=1)"
   ]
  },
  {
   "cell_type": "code",
   "execution_count": 103,
   "id": "7350d7e5-b79d-467b-8baf-d3058c86a42c",
   "metadata": {},
   "outputs": [],
   "source": [
    "try: \n",
    "    electrical_usage_log = pd.read_csv(\"electrical_usage_log\")\n",
    "    newest_entry = df[['Model','Power','Expected_Price']]\n",
    "    newest_entry.index = pd.Series([datetime.now()] * len(newest_entry))\n",
    "    electrical_usage_log = pd.concat([electrical_usage_log, newest_entry], ignore_index=False)\n",
    "except:\n",
    "    electrical_usage_log = df[['Model','Power','Expected_Price']]\n",
    "    electrical_usage_log.index = pd.Series([datetime.now()] * len(electrical_usage_log))\n",
    "\n",
    "electrical_usage_log.to_csv(\"data/electrical_usage_log.csv\")"
   ]
  },
  {
   "cell_type": "code",
   "execution_count": 104,
   "id": "7e1dfd61-6682-471a-b53d-baf3e2d01a19",
   "metadata": {},
   "outputs": [],
   "source": [
    "#currently implemented for single device only\n",
    "if df['Expected_Price'].item() > 0:\n",
    "    expected_return = str(1)\n",
    "else:\n",
    "    expected_return = str(0)"
   ]
  },
  {
   "cell_type": "code",
   "execution_count": 72,
   "id": "cc4446ce-0500-4fa2-a705-ac5989ff1d97",
   "metadata": {},
   "outputs": [],
   "source": [
    "with open('data/path.txt', 'r') as file:\n",
    "    file_path = file.read()\n",
    "with open(os.path.abspath(file_path), 'w') as f:\n",
    "    f.write(expected_return)"
   ]
  }
 ],
 "metadata": {
  "kernelspec": {
   "display_name": "Python 3 (ipykernel)",
   "language": "python",
   "name": "python3"
  },
  "language_info": {
   "codemirror_mode": {
    "name": "ipython",
    "version": 3
   },
   "file_extension": ".py",
   "mimetype": "text/x-python",
   "name": "python",
   "nbconvert_exporter": "python",
   "pygments_lexer": "ipython3",
   "version": "3.13.2"
  }
 },
 "nbformat": 4,
 "nbformat_minor": 5
}
